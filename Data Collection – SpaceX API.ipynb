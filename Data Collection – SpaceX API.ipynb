{
 "cells": [
  {
   "cell_type": "code",
   "execution_count": 1,
   "id": "ac1402db-67d8-4d0c-abc1-d30dfee5d4bd",
   "metadata": {},
   "outputs": [
    {
     "ename": "IndentationError",
     "evalue": "unexpected indent (1316984524.py, line 2)",
     "output_type": "error",
     "traceback": [
      "  \u001b[36mCell\u001b[39m\u001b[36m \u001b[39m\u001b[32mIn[1]\u001b[39m\u001b[32m, line 2\u001b[39m\n\u001b[31m    \u001b[39m\u001b[31m↓\u001b[39m\n    ^\n\u001b[31mIndentationError\u001b[39m\u001b[31m:\u001b[39m unexpected indent\n"
     ]
    }
   ],
   "source": [
    "START\n",
    "   ↓\n",
    "Send GET request to https://api.spacexdata.com/v4/launches/past\n",
    "   ↓\n",
    "Receive JSON response\n",
    "   ↓\n",
    "Normalize JSON using pandas.json_normalize()\n",
    "   ↓\n",
    "Convert to DataFrame\n",
    "   ↓\n",
    "Extract relevant features (e.g., launch date, rocket type, landing success)\n",
    "   ↓\n",
    "Save or visualize data\n",
    "   ↓\n",
    "END\n"
   ]
  },
  {
   "cell_type": "code",
   "execution_count": null,
   "id": "c1a9c0ab-5b69-4c1d-94d2-4d2c7870a9e0",
   "metadata": {},
   "outputs": [],
   "source": []
  }
 ],
 "metadata": {
  "kernelspec": {
   "display_name": "Python 3 (ipykernel)",
   "language": "python",
   "name": "python3"
  },
  "language_info": {
   "codemirror_mode": {
    "name": "ipython",
    "version": 3
   },
   "file_extension": ".py",
   "mimetype": "text/x-python",
   "name": "python",
   "nbconvert_exporter": "python",
   "pygments_lexer": "ipython3",
   "version": "3.13.2"
  }
 },
 "nbformat": 4,
 "nbformat_minor": 5
}
